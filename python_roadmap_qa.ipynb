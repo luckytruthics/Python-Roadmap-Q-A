{
 "cells": [
  {
   "cell_type": "code",
   "execution_count": 2,
   "metadata": {},
   "outputs": [
    {
     "name": "stdout",
     "output_type": "stream",
     "text": [
      "6\n",
      "3\n",
      "5\n",
      "7\n"
     ]
    }
   ],
   "source": [
    "num = 7536\n",
    "while (num != 0):\n",
    "    res = num%10\n",
    "    num = num//10\n",
    "    print(res)"
   ]
  },
  {
   "cell_type": "code",
   "execution_count": 6,
   "metadata": {},
   "outputs": [
    {
     "name": "stdout",
     "output_type": "stream",
     "text": [
      "zaheen_malik\n"
     ]
    }
   ],
   "source": [
    "# Convert a full name to snake case\n",
    "str = 'Zaheen Malik'\n",
    "print(str.replace(' ','_').lower())\n"
   ]
  },
  {
   "cell_type": "code",
   "execution_count": 12,
   "metadata": {},
   "outputs": [
    {
     "name": "stdout",
     "output_type": "stream",
     "text": [
      "Fizz\n"
     ]
    }
   ],
   "source": [
    "# Q8 \n",
    "def fizz_buzz(number):\n",
    "    if number%3 == 0 and number%5 == 0:\n",
    "        return 'FizzBuzz'\n",
    "    elif number%5 == 0:\n",
    "        return 'Buzz'\n",
    "    elif number%3 == 0:\n",
    "        return 'Fizz'\n",
    "    else:\n",
    "        return number\n",
    "\n",
    "print(fizz_buzz(9))"
   ]
  },
  {
   "cell_type": "code",
   "execution_count": 16,
   "metadata": {},
   "outputs": [
    {
     "name": "stdout",
     "output_type": "stream",
     "text": [
      "Prime number\n"
     ]
    }
   ],
   "source": [
    "# Q9\n",
    "def prime_num(number):\n",
    "    flag = 0\n",
    "    for i in range(2,(number//2)+1):\n",
    "        if number%i == 0:\n",
    "            flag = 1\n",
    "    \n",
    "    if flag == 1:\n",
    "        print('Not a prime number')\n",
    "    else:\n",
    "        print('Prime number')\n",
    "\n",
    "prime_num(2)"
   ]
  }
 ],
 "metadata": {
  "kernelspec": {
   "display_name": "pyenv",
   "language": "python",
   "name": "python3"
  },
  "language_info": {
   "codemirror_mode": {
    "name": "ipython",
    "version": 3
   },
   "file_extension": ".py",
   "mimetype": "text/x-python",
   "name": "python",
   "nbconvert_exporter": "python",
   "pygments_lexer": "ipython3",
   "version": "3.12.2"
  }
 },
 "nbformat": 4,
 "nbformat_minor": 2
}
