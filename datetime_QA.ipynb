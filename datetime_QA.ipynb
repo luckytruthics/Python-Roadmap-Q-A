{
 "cells": [
  {
   "cell_type": "code",
   "execution_count": 74,
   "metadata": {},
   "outputs": [],
   "source": [
    "from datetime import datetime,date"
   ]
  },
  {
   "cell_type": "markdown",
   "metadata": {},
   "source": [
    "1. Write a function that takes a datetime object as input and returns the number of days remaining in the current month.\n",
    "2. How do you format a datetime object as a string?\n",
    "3. How do you convert a string to a datetime object?\n",
    "4. calculate the number of days between two datetime objects?\n",
    "5. Write a python program that takes a date object as input and return the previous month date and next month date ?"
   ]
  },
  {
   "cell_type": "code",
   "execution_count": 84,
   "metadata": {},
   "outputs": [
    {
     "name": "stdout",
     "output_type": "stream",
     "text": [
      "Next Month: 2024-04-28\n",
      "Previous Month : 2024-02-28\n"
     ]
    }
   ],
   "source": [
    "# Q5\n",
    "\n",
    "from datetime import datetime, date\n",
    "from dateutil.relativedelta import *\n",
    "\n",
    "current_date = date.today()\n",
    "next_month = current_date + relativedelta(months =+ 1)\n",
    "print(f'Next Month: {next_month}')\n",
    "\n",
    "previous_month =  current_date + relativedelta(months =- 1)\n",
    "print(f'Previous Month : {previous_month}')\n",
    "\n"
   ]
  },
  {
   "cell_type": "code",
   "execution_count": 81,
   "metadata": {},
   "outputs": [
    {
     "name": "stdout",
     "output_type": "stream",
     "text": [
      "4 days\n"
     ]
    }
   ],
   "source": [
    "# Q1\n",
    "\n",
    "\n",
    "import calendar\n",
    "from datetime import datetime,date\n",
    "\n",
    "def month_rem_days(date_arg):\n",
    "    current_day = date.fromisoformat(date_arg).day\n",
    "    current_date = date.today()\n",
    "   \n",
    "    days_in_current_month = calendar.monthrange(current_date.year,current_date.month)[1]\n",
    "    return f'{days_in_current_month - current_day} days'\n",
    "\n",
    "\n",
    "print(month_rem_days('2024-03-27'))\n",
    "    "
   ]
  },
  {
   "cell_type": "code",
   "execution_count": 79,
   "metadata": {},
   "outputs": [
    {
     "name": "stdout",
     "output_type": "stream",
     "text": [
      "<class 'datetime.date'>\n",
      "<class 'str'>\n",
      "2024-03-28\n"
     ]
    }
   ],
   "source": [
    "# Q2 \n",
    "\n",
    "today_date = date.today()\n",
    "print(type(today_date))\n",
    "str_date = date.isoformat(today_date)\n",
    "print(type(str_date))\n",
    "print(str_date)"
   ]
  },
  {
   "cell_type": "code",
   "execution_count": 40,
   "metadata": {},
   "outputs": [
    {
     "name": "stdout",
     "output_type": "stream",
     "text": [
      "<class 'str'>\n",
      "<class 'datetime.date'>\n",
      "2024-03-27\n"
     ]
    }
   ],
   "source": [
    "# Q3\n",
    "\n",
    "from datetime import date\n",
    "\n",
    "string_date = '2024-03-27'\n",
    "print(type(string_date))\n",
    "datetime_date = date.fromisoformat(string_date)\n",
    "print(type(datetime_date))\n",
    "print(datetime_date)"
   ]
  },
  {
   "cell_type": "code",
   "execution_count": 35,
   "metadata": {},
   "outputs": [
    {
     "name": "stdout",
     "output_type": "stream",
     "text": [
      "5 days\n"
     ]
    }
   ],
   "source": [
    "# Q4 \n",
    "\n",
    "def calculate_days(date1,date2):\n",
    "    if date2 > date1:\n",
    "        return f'{(date2 - date1).days} days'\n",
    "    else:\n",
    "        return 'second date should be greater than first date'\n",
    "\n",
    "last_weekend_date = date(2024,3,23)\n",
    "today_date = date.today()\n",
    "\n",
    "print(calculate_days(last_weekend_date,today_date))\n",
    "\n"
   ]
  }
 ],
 "metadata": {
  "kernelspec": {
   "display_name": "pyenv",
   "language": "python",
   "name": "python3"
  },
  "language_info": {
   "codemirror_mode": {
    "name": "ipython",
    "version": 3
   },
   "file_extension": ".py",
   "mimetype": "text/x-python",
   "name": "python",
   "nbconvert_exporter": "python",
   "pygments_lexer": "ipython3",
   "version": "3.12.2"
  }
 },
 "nbformat": 4,
 "nbformat_minor": 2
}
